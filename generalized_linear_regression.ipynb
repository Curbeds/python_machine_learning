
{
 "cells": [
  {
   "cell_type": "markdown",
   "metadata": {},
   "source": [
    "# Generalized Linear Regression"
   ]
  },
  {
   "cell_type": "markdown",
   "metadata": {},
   "source": [
    "## Import and Prepare the Data"
   ]
  },
  {
   "cell_type": "markdown",
   "metadata": {},
   "source": [
    "[pandas](https://pandas.pydata.org/) provides excellent data reading and querying module,[dataframe](https://pandas.pydata.org/pandas-docs/stable/generated/pandas.DataFrame.html), which allows you to import structured data and perform SQL-like queries. \n",
    "\n",
    "Here we imported some house price records from [Trulia](https://www.trulia.com/?cid=sem|google|tbw_br_nat_x_x_nat!53f9be4f|Trulia-Exact_352364665_22475209465_aud-278383240986:kwd-1967776155_260498918114_). For more about extracting data from Trulia, please check [my previous tutorial](https://www.youtube.com/watch?v=qB418v3k2vk).\n"
   ]
  },
  {
   "cell_type": "markdown",
   "metadata": {},
   "source": [
    "We used the house prices as the [dependent variable](https://en.wikipedia.org/wiki/Dependent_and_independent_variables) and the lot size, house area, the number of bedrooms and the number of bathrooms as the [independent variables](https://en.wikipedia.org/wiki/Dependent_and_independent_variables). "
   ]
  },
  {
   "cell_type": "code",
   "execution_count": 33,
   "metadata": {},
   "outputs": [
    {
     "name": "stdout",
     "output_type": "stream",
     "text": [
      "[[ 10018   1541      3      2]\n",
      " [  8712   1810      4      2]\n",
      " [ 13504   1456      3      2]\n",
      " [ 10130   2903      5      4]\n",
      " [ 18295   2616      3      2]\n",
      " [204732   3850      3      2]\n",
      " [  9147   1000      3      1]\n",
      " [  2300    920      2      2]\n",
      " [ 13939   2705      3      3]\n",
      " [  2291   1440      4      3]]\n"
     ]
    }
   ],
   "source": [
    "import sklearn\n",
    "from sklearn.model_selection import train_test_split\n",
    "from matplotlib import pyplot as plt\n",
    "%matplotlib inline\n",
    "import pandas\n",
    "import numpy as np\n",
    "\n",
    "df = pandas.read_excel('house_price.xlsx')\n",
    "\n",
    "# combine multipl columns into a 2D array\n",
    "X = np.column_stack((df.lot_size,df.area,df.bedroom,df.bathroom)) \n",
    "y = df.price\n",
    "print (X[:10])\n",
    "\n",
    "#split data for training and testing\n",
    "X_train, X_test, y_train, y_test = train_test_split(X, y,test_size=0.3 , random_state=3) \n",
    "\n"
   ]
  },
  {
   "cell_type": "markdown",
   "metadata": {},
   "source": [
    "## Ordinary Least Squares"
   ]
  },
  {
   "cell_type": "markdown",
   "metadata": {},
   "source": [
    "We used a [multiple linear regression model](http://scikit-learn.org/stable/modules/linear_model.html#ordinary-least-squares) to learn the data and test the [R squares](http://scikit-learn.org/stable/modules/generated/sklearn.metrics.r2_score.html) on the training data and the test data."
   ]
  },
  {
   "cell_type": "code",
   "execution_count": 34,
   "metadata": {},
   "outputs": [
    {
     "name": "stdout",
     "output_type": "stream",
     "text": [
      "lr.coef_: [2.12812203e-01 4.09817896e+01 1.34769478e+04 4.47428552e+04]\n",
      "lr.intercept_: 16022.125347000547\n",
      "Training R Square: 0.96\n",
      "Test R Square: 0.71\n"
     ]
    }
   ],
   "source": [
    "from sklearn.linear_model import LinearRegression\n",
    "lr = LinearRegression().fit(X_train, y_train)\n",
    "print(\"lr.coef_: {}\".format(lr.coef_))\n",
    "print(\"lr.intercept_: {}\".format(lr.intercept_))\n",
    "print(\"Training R Square: {:.2f}\".format(lr.score(X_train, y_train)))\n",
    "print(\"Test R Square: {:.2f}\".format(lr.score(X_test, y_test)))"
   ]
  },
  {
   "cell_type": "markdown",
   "metadata": {},
   "source": [
    "The model reported the coefficients of all features, and the R square on the training data is good. However, the R square of the testing data is much lower, indicating an [overfitting](https://en.wikipedia.org/wiki/Overfitting) situation. "
   ]
  },
  {
   "cell_type": "markdown",
   "metadata": {},
   "source": [
    "## Ridge Regression"
   ]
  },
  {
   "cell_type": "markdown",
   "metadata": {},
   "source": [
    "[Ridge Regression](http://scikit-learn.org/stable/modules/linear_model.html#ridge-regression) reduces the complexity of linear models by imposing a penalty on the size of coefficients to push all coefficients close to 0."
   ]
  },
  {
   "cell_type": "code",
   "execution_count": 35,
   "metadata": {},
   "outputs": [
    {
     "name": "stdout",
     "output_type": "stream",
     "text": [
      "Training R Square: 0.96\n",
      "Test R Square: 0.72\n"
     ]
    }
   ],
   "source": [
    "from sklearn.linear_model import Ridge\n",
    "\n",
    "ridge = Ridge().fit(X_train, y_train)\n",
    "print(\"Training R Square: {:.2f}\".format(ridge.score(X_train, y_train)))\n",
    "print(\"Test R Square: {:.2f}\".format(ridge.score(X_test, y_test)))"
   ]
  },
  {
   "cell_type": "markdown",
   "metadata": {},
   "source": [
    "We can increase the alpha to push all coefficients closer to 0."
   ]
  },
  {
   "cell_type": "code",
   "execution_count": 36,
   "metadata": {},
   "outputs": [
    {
     "name": "stdout",
     "output_type": "stream",
     "text": [
      "Training R Square: 0.95\n",
      "Test R Square: 0.75\n"
     ]
    }
   ],
   "source": [
    "ridge10 = Ridge(alpha=10).fit(X_train, y_train) # set different aphpa\n",
    "print(\"Training R Square: {:.2f}\".format(ridge10.score(X_train, y_train)))\n",
    "print(\"Test R Square: {:.2f}\".format(ridge10.score(X_test, y_test)))"
   ]
  },
  {
   "cell_type": "code",
   "execution_count": 37,
   "metadata": {
    "scrolled": false
   },
   "outputs": [
    {
     "name": "stdout",
     "output_type": "stream",
     "text": [
      "Training R Square: 0.93\n",
      "Test R Square: 0.79\n"
     ]
    }
   ],
   "source": [
    "ridge1000 = Ridge(alpha=1000).fit(X_train, y_train)\n",
    "print(\"Training R Square: {:.2f}\".format(ridge1000.score(X_train, y_train)))\n",
    "print(\"Test R Square: {:.2f}\".format(ridge1000.score(X_test, y_test)))"
   ]
  },
  {
   "cell_type": "markdown",
   "metadata": {},
   "source": [
    "We can visually compare the coefficients from the Ridge Regression models with different alpha."
   ]
  },
  {
   "cell_type": "code",
   "execution_count": 38,
   "metadata": {},
   "outputs": [
    {
     "data": {
      "text/plain": [
       "<matplotlib.legend.Legend at 0x36ce810>"
      ]
     },
     "execution_count": 38,
     "metadata": {},
     "output_type": "execute_result"
    },
    {
     "data": {
      "image/png": "[encoded data removed]",
      "text/plain": [
       "<Figure size 432x288 with 1 Axes>"
      ]
     },
     "metadata": {},
     "output_type": "display_data"
    }
   ],
   "source": [
    "plt.plot(ridge.coef_, 's', label=\"Ridge alpha=1\")\n",
    "plt.plot(ridge10.coef_, '^', label=\"Ridge alpha=10\")\n",
    "plt.plot(ridge1000.coef_, 'v', label=\"Ridge alpha=1000\")\n",
    "plt.plot(lr.coef_, 'o', label=\"LinearRegression\")\n",
    "plt.xlabel(\"Coefficient index\")\n",
    "plt.ylabel(\"Coefficient magnitude\")\n",
    "plt.hlines(0, 0, len(lr.coef_))\n",
    "plt.legend()"
   ]
  },
  {
   "cell_type": "markdown",
   "metadata": {},
   "source": [
    "## Lasso Regression"
   ]
  },
  {
   "cell_type": "markdown",
   "metadata": {},
   "source": [
    "[Lasso](http://scikit-learn.org/stable/modules/linear_model.html#lasso) is another model that estimates sparse coefficients by push some coefficients to 0, i.e., reduce the number of coefficients."
   ]
  },
  {
   "cell_type": "code",
   "execution_count": 39,
   "metadata": {
    "scrolled": true
   },
   "outputs": [
    {
     "name": "stdout",
     "output_type": "stream",
     "text": [
      "Training set score: 0.96\n",
      "Test set score: 0.71\n",
      "Number of features used: 4\n"
     ]
    }
   ],
   "source": [
    "from sklearn.linear_model import Lasso\n",
    "\n",
    "lasso = Lasso().fit(X_train, y_train)\n",
    "print(\"Training set score: {:.2f}\".format(lasso.score(X_train, y_train)))\n",
    "print(\"Test set score: {:.2f}\".format(lasso.score(X_test, y_test)))\n",
    "# here we also report the number of coefficients\n",
    "print(\"Number of features used: {}\".format(np.sum(lasso.coef_ != 0))) "
   ]
  },
  {
   "cell_type": "markdown",
   "metadata": {},
   "source": [
    "We can also adjust the alpha to push some coefficients closer to 0."
   ]
  },
  {
   "cell_type": "code",
   "execution_count": 40,
   "metadata": {},
   "outputs": [
    {
     "name": "stdout",
     "output_type": "stream",
     "text": [
      "Training R Square: 0.96\n",
      "Test R Square: 0.71\n",
      "Number of features used: 4\n"
     ]
    }
   ],
   "source": [
    "lasso10 = Lasso(alpha=10).fit(X_train, y_train) #set different alpha\n",
    "print(\"Training R Square: {:.2f}\".format(lasso10.score(X_train, y_train)))\n",
    "print(\"Test R Square: {:.2f}\".format(lasso10.score(X_test, y_test)))\n",
    "print(\"Number of features used: {}\".format(np.sum(lasso10.coef_ != 0)))"
   ]
  },
  {
   "cell_type": "code",
   "execution_count": 41,
   "metadata": {},
   "outputs": [
    {
     "name": "stdout",
     "output_type": "stream",
     "text": [
      "Training R Square: 0.95\n",
      "Test R Square: 0.73\n",
      "Number of features used: 3\n"
     ]
    }
   ],
   "source": [
    "lasso10000 = Lasso(alpha=10000, ).fit(X_train, y_train)\n",
    "print(\"Training R Square: {:.2f}\".format(lasso10000.score(X_train, y_train)))\n",
    "print(\"Test R Square: {:.2f}\".format(lasso10000.score(X_test, y_test)))\n",
    "print(\"Number of features used: {}\".format(np.sum(lasso10000.coef_ != 0)))"
   ]
  },
  {
   "cell_type": "markdown",
   "metadata": {},
   "source": [
    "We can also check the coefficients from the Lasso Regression models with different alpha."
   ]
  },
  {
   "cell_type": "code",
   "execution_count": 42,
   "metadata": {},
   "outputs": [
    {
     "data": {
      "text/plain": [
       "Text(0,0.5,'Coefficient magnitude')"
      ]
     },
     "execution_count": 42,
     "metadata": {},
     "output_type": "execute_result"
    },
    {
     "data": {
      "image/png": "[encoded data removed]",
      "text/plain": [
       "<Figure size 432x288 with 1 Axes>"
      ]
     },
     "metadata": {},
     "output_type": "display_data"
    }
   ],
   "source": [
    "plt.plot(lasso.coef_, 's', label=\"Lasso alpha=1\")\n",
    "plt.plot(lasso10.coef_, '^', label=\"Lasso alpha=10\")\n",
    "plt.plot(lasso10000.coef_, 'v', label=\"Lasso alpha=10000\")\n",
    "plt.plot(lr.coef_, 'o', label=\"LinearRegression\")\n",
    "plt.legend(ncol=2, loc=(0, 1.05))\n",
    "plt.xlabel(\"Coefficient index\")\n",
    "plt.ylabel(\"Coefficient magnitude\")"
   ]
  }
 ],
 "metadata": {
  "kernelspec": {
   "display_name": "Python 3",
   "language": "python",
   "name": "python3"
  },
  "language_info": {
   "codemirror_mode": {
    "name": "ipython",
    "version": 3
   },
   "file_extension": ".py",
   "mimetype": "text/x-python",
   "name": "python",
   "nbconvert_exporter": "python",
   "pygments_lexer": "ipython3",
   "version": "3.6.5"
  }
 },
 "nbformat": 4,
 "nbformat_minor": 2
}