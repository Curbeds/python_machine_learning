{
 "cells": [
  {
   "cell_type": "markdown",
   "metadata": {},
   "source": [
    "# Neural Networks"
   ]
  },
  {
   "cell_type": "markdown",
   "metadata": {},
   "source": [
    "An [Artificial Neural Network](https://en.wikipedia.org/wiki/Artificial_neural_network) (neural network or ANN for short) is a predictive model (for [regression](http://scikit-learn.org/stable/modules/generated/sklearn.neural_network.MLPRegressor.html#sklearn.neural_network.MLPRegressor) and [classification](http://scikit-learn.org/stable/modules/generated/sklearn.neural_network.MLPClassifier.html)) motivated by the way the brain operates."
   ]
  },
  {
   "cell_type": "markdown",
   "metadata": {},
   "source": [
    "## Import and Prepare the Data"
   ]
  },
  {
   "cell_type": "markdown",
   "metadata": {},
   "source": [
    "[pandas](https://pandas.pydata.org/) provides excellent data reading and querying module,[dataframe](https://pandas.pydata.org/pandas-docs/stable/generated/pandas.DataFrame.html), which allows you to import structured data and perform SQL-like queries. We also use the [mglearn](https://github.com/amueller/mglearn) package to help us visualize the data and models.\n",
    "\n",
    "Here we imported some house price records from [Trulia](https://www.trulia.com/?cid=sem|google|tbw_br_nat_x_x_nat!53f9be4f|Trulia-Exact_352364665_22475209465_aud-278383240986:kwd-1967776155_260498918114_). For more about extracting data from Trulia, please check [my previous tutorial](https://www.youtube.com/watch?v=qB418v3k2vk).\n",
    "\n",
    "We use the house type as the [dependent variable](https://en.wikipedia.org/wiki/Dependent_and_independent_variables) and the house ages and house prices as the [independent variables](https://en.wikipedia.org)"
   ]
  },
  {
   "cell_type": "code",
   "execution_count": 1,
   "metadata": {},
   "outputs": [
    {
     "data": {
      "image/png": "iVBORw0KGgoAAAANSUhEUgAAAYIAAAELCAYAAADURYGZAAAABHNCSVQICAgIfAhkiAAAAAlwSFlzAAALEgAACxIB0t1+/AAAADl0RVh0U29mdHdhcmUAbWF0cGxvdGxpYiB2ZXJzaW9uIDIuMi4zLCBodHRwOi8vbWF0cGxvdGxpYi5vcmcvIxREBQAAIABJREFUeJzsnXl81NW5/99nMlkgCwGSCJgVBALZQ5BFkxBR0GJbtWJr3Zdre2+92vZXu3mt9fZlb++tda31qq1UrVa9eG29VuuGsihVdgKByJIEAoGEBJJM9knO74/Jd5iZzEwmy8xked6+5iUz853veb7fmZzPec7znOcorTWCIAjC+MUUbAMEQRCE4CJCIAiCMM4RIRAEQRjniBAIgiCMc0QIBEEQxjkiBIIgCOMcEQJBEIRxjgiBIAjCOEeEQBAEYZxjDrYBvhAXF6dTU1ODbYYgCMKoYtu2bae01vH9HTcqhCA1NZWtW7cG2wxBEIRRhVKqypfjZGpIEARhnCNCIAiCMM4RIRAEQRjnjIoYgdA/Tz7zJKdqTvV7XNz0OL5zx3eG3F5XVxfV1dW0t7cP+VzC6CYiIoLExERCQ0ODbYowSEQIxghJiUlsbdvK1ljPQfWCMwXkJ+YPS3vV1dVER0eTmpqKUmpYzimMPrTW1NfXU11dTVpaWrDNEQaJTA2NEUoKS0hrSSPCGuH2/QhrBGktaZQUlQxLe+3t7UydOlVEYJyjlGLq1KniGY5yRAjGCNHR0eTm5pJpyXT7fqYlk7zcPKKiooatTREBAeR3MBbwmxAopZ5TStUqpfY4vPZrpdR+pdRupdQbSqlYf7U/HvHkFQy3NzBQDh06xHf+9W5ip8ZjCgkhdmo83/nXuzl06FBQ7BEEwRl/egR/BC51ee19IFNrnQ18AfzEj+2POzx5Bf7wBnzlnXfeIXfBQl7dcZLIq/+DpP/3BpFX/wev7jhJ7oKFvPPOOwG3yRs333wza9euDbYZghBQ/CYEWusNQIPLa+9pra29T/8BJPqr/fGKq1cQTG/g0KFDXHPtdUR9+adEXXgDoZOno0whhE6eTtSFNxD15Z9yzbXXiWcgCEEmmDGCW4GRNRwcA7h6BcH0Bh5+9HHCM1cQfu48t++HnzuP8IxLeOSxJwbdxgsvvEB2djY5OTnccMMNVFVVsXz5crKzs1m+fDlHjhwBbCP9u+66i6VLlzJz5kz7qF9rzZ133sn8+fNZtWoVtbW19nN/+OGH5OXlkZWVxa233kpHR8eg7RSEkUxQhEApdS9gBV7ycswdSqmtSqmtdXV1gTNuDGB4BbEdsUGNDbz08suEZ1zs9ZjwzEv400svD+r8e/fu5cEHH2TdunXs2rWLxx57jDvvvJMbb7yR3bt3c91113HXXXfZj6+pqWHTpk289dZb/PjHPwbgjTfeoLy8nNLSUp599lk+/fRTwJYVdfPNN/Pqq69SWlqK1WrlqaeeGpSdgjDSCbgQKKVuAi4HrtNaa0/Haa2f0VoXaK0L4uP7LZ4nOGB4BcW1xUHzBgCazjRgnpTg9RhzTDzNZxq8HuOJdevWcfXVVxMXFwfAlClT2Lx5M9