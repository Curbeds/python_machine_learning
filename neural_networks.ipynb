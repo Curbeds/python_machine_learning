{
 "cells": [
  {
   "cell_type": "markdown",
   "metadata": {},
   "source": [
    "# Neural Networks"
   ]
  },
  {
   "cell_type": "markdown",
   "metadata": {},
   "source": [
    "An [Artificial Neural Network](https://en.wikipedia.org/wiki/Artificial_neural_network) (neural network or ANN for short) is a predictive model (for [regression](http://scikit-learn.org/stable/modules/generated/sklearn.neural_network.MLPRegressor.html#sklearn.neural_network.MLPRegressor) and [classification](http://scikit-learn.org/stable/modules/generated/sklearn.neural_network.MLPClassifier.html)) motivated by th