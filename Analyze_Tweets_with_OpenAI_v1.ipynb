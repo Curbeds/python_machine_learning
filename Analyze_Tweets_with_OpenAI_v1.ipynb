{
 "cells": [
  {
   "cell_type": "markdown",
   "id": "7dc3883c",
   "metadata": {},
   "source": [
    "# Analyze Twitter Data with OpenAI V1"
   ]
  },
  {
   "cell_type": "markdown",
   "id": "3e679fb6",
   "metadata": {},
   "source": [
    "This notebook assumes that your Tweets were collected with Twitter API V1, or the Tweets are orgianzied as:\n",
    "```\n",
    "{\n",
    "id:123,\n",
    "text:'abc',\n",
    "...\n",
    "}\n",
    "\n",
    "```\n",
    "If you Tweets were collected with Twitter API V2 or organized in a different foramt, please use the code for [V2](https://github.com/xbwei/machine_learning_in_python/tree/master)."
   ]
  },
  {
   "cell_type": "markdown",
   "id": "dfcc5219",
   "metadata": {},
   "source": [
    "## Install Python libraries"
   ]
  },
  {
   "cell_type": "markdown",
   "id": "756e9eb5",
   "metadata": {},
   "source": [
    "We need the [pymongo](https://pypi.org/project/pymongo/) to manage the MongoDB database, and [openai](https://github.com/openai/openai-python) to call the OpenAI APIs."
   ]
  },
  {
   "cell_type": "code",
   "execution_count": 1,
   "id": "e207189b",
   "metadata": {
    "scrolled": false
   },
   "outputs": [
    {
     "name": "stdout",
     "output_type": "stream",
     "text": [
      "Collecting pymongo\n",
      "  Downloading pymongo-4.6.0-cp310-cp310-manylinux_2_