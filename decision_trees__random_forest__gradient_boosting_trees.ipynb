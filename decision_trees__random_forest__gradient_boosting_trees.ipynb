
{
 "cells": [
  {
   "cell_type": "markdown",
   "metadata": {},
   "source": [
    "# Decision Trees, Random Forest, and Gradient Boosting Trees"
   ]
  },
  {
   "cell_type": "markdown",
   "metadata": {},
   "source": [
    "## Import and Prepare the Data"
   ]
  },
  {
   "cell_type": "markdown",
   "metadata": {},
   "source": [
    "[pandas](https://pandas.pydata.org/) provides excellent data reading and querying module,[dataframe](https://pandas.pydata.org/pandas-docs/stable/generated/pandas.DataFrame.html), which allows you to import structured data and perform SQL-like queries. We also use the [mglearn](https://github.com/amueller/mglearn) package to help us visualize the data and models.\n",
    "\n",
    "Here we imported some house price records from [Trulia](https://www.trulia.com/?cid=sem|google|tbw_br_nat_x_x_nat!53f9be4f|Trulia-Exact_352364665_22475209465_aud-278383240986:kwd-1967776155_260498918114_). For more about extracting data from Trulia, please check [my previous tutorial](https://www.youtube.com/watch?v=qB418v3k2vk).\n",
    "\n",
    "We use the house type as the [dependent variable](https://en.wikipedia.org/wiki/Dependent_and_independent_variables) and the house ages and house prices as the [independent variables](https://en.wikipedia.org/wiki/Dependent_and_independent_variables).\n",
    "\n",
    "To visualize the trees, we use the [graphviz](https://pypi.org/project/graphviz/) python module. You also need to download  the [graphviz Executable Package](https://www.graphviz.org/download/) on your computer."
   ]
  },
  {
   "cell_type": "code",
   "execution_count": 10,
   "metadata": {},
   "outputs": [
    {
     "data": {
      "image/png": "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\n",
      "text/plain": [
       "<Figure size 432x288 with 1 Axes>"
      ]
     },
     "metadata": {
      "needs_background": "light"
     },
     "output_type": "display_data"
    }
   ],
   "source": [
    "import sklearn\n",
    "from sklearn.model_selection import train_test_split\n",
    "from matplotlib import pyplot as plt\n",
    "%matplotlib inline\n",
    "import pandas\n",
    "import numpy as np\n",
    "import mglearn\n",
    "from collections import Counter\n",
    "from sklearn.metrics import cohen_kappa_score\n",
    "\n",
    "import graphviz   # use graphviz to visualize trees\n",
    "import os\n",
    "os.environ[\"PATH\"] += os.pathsep + r\"C:\\Program Files (x86)\\Graphviz2.38\\bin\" # link to the graphviz executable package \n",
    "\n",
    "df = pandas.read_excel('house_price_label.xlsx')\n",
    "# combine multipl columns into a 2D array\n",
    "# also convert the integer data to float data\n",
    "X = np.column_stack((df.built_in.astype(float),df.price.astype(float))) \n",
    "y = df.house_type\n",
    "X_train, X_test, y_train, y_test = train_test_split(X, y,test_size =0.3,stratify = y, random_state=0) \n",
    "\n",
    "# for classification, make sure a stratify splitting method is selected\n",
    "mglearn.discrete_scatter(X[:,0],X[:,1],y) # use mglearn to visualize data\n",
    "\n",
    "plt.legend(y,loc='best')\n",
    "plt.xlabel('build_in')\n",
    "plt.ylabel('house price')\n",
    "plt.show()"
   ]
  },
  {
   "cell_type": "markdown",
   "metadata": {},
   "source": [
    "## Decision Trees"
   ]
  },
  {
   "cell_type": "markdown",
   "metadata": {},
   "source": [
    "A decision tree uses a tree structure to represent many possible decision paths and an outcome for each path. To build a tree, the algorithm searches over all possible questions or splits and finds the one that is most informative about the target variable. The quality of a question or split is measured with [Gini Impurity](https://en.wikipedia.org/wiki/Decision_tree_learning) or the [Information Gain](https://en.wikipedia.org/wiki/Decision_tree_learning) which based on [Entropy](https://en.wikipedia.org/wiki/Entropy_(information_theory)."
   ]
  },
  {
   "cell_type": "markdown",
   "metadata": {},
   "source": [
    "Here we use [DecisionTreeClassifier](http://scikit-learn.org/stable/modules/generated/sklearn.tree.DecisionTreeClassifier.html) to classify the house types based on house ages and house prices. "
   ]
  },
  {
   "cell_type": "code",
   "execution_count": 11,
   "metadata": {
    "scrolled": true
   },
   "outputs": [
    {
     "name": "stdout",
     "output_type": "stream",
     "text": [
      "Training set accuracy: 0.99\n",
      "Training Kappa: 0.982\n",
      "Test set accuracy: 0.87\n",
      "Test Kappa: 0.631\n"
     ]
    }
   ],
   "source": [
    "from sklearn.tree import DecisionTreeClassifier\n",
    "\n",
    "tree = DecisionTreeClassifier(random_state=0)\n",
    "tree.fit(X_train, y_train)\n",
    "print(\"Training set accuracy: {:.2f}\".format(tree.score(X_train, y_train)))\n",
    "print (\"Training Kappa: {:.3f}\".format(cohen_kappa_score(y_train,tree.predict(X_train))))\n",
    "print(\"Test set accuracy: {:.2f}\".format(tree.score(X_test, y_test)))\n",
    "print (\"Test Kappa: {:.3f}\".format(cohen_kappa_score(y_test,tree.predict(X_test))))\n",
    "\n"
   ]
  },
  {
   "cell_type": "markdown",
   "metadata": {},
   "source": [
    "It is very easy (and very bad) to build decision trees that are overfitted to the training data, and that doesn’t generalize well to unseen data. We can control the complexity of the tree by limit [the maximum depth of the tree](http://scikit-learn.org/stable/modules/generated/sklearn.tree.DecisionTreeClassifier.html) or [the maximum number of leaves](http://scikit-learn.org/stable/modules/generated/sklearn.tree.DecisionTreeClassifier.html), and [more](http://scikit-learn.org/stable/modules/tree.html#tree)."
   ]
  },
  {
   "cell_type": "code",
   "execution_count": 18,
   "metadata": {},
   "outputs": [
    {
     "name": "stdout",
     "output_type": "stream",
     "text": [
      "Training set accuracy: 0.90\n",
      "Training Kappa: 0.715\n",
      "Test set accuracy: 0.83\n",
      "Test Kappa: 0.467\n"
     ]
    }
   ],
   "source": [
    "tree = DecisionTreeClassifier(max_depth=6, random_state=0)\n",
    "tree.fit(X_train, y_train)\n",
    "\n",
    "print(\"Training set accuracy: {:.2f}\".format(tree.score(X_train, y_train)))\n",
    "print (\"Training Kappa: {:.3f}\".format(cohen_kappa_score(y_train,tree.predict(X_train))))\n",
    "print(\"Test set accuracy: {:.2f}\".format(tree.score(X_test, y_test)))\n",
    "print (\"Test Kappa: {:.3f}\".format(cohen_kappa_score(y_test,tree.predict(X_test))))\n",
    "\n"
   ]
  },
  {
   "cell_type": "markdown",
   "metadata": {},
   "source": [
    "We can visualize and analyze the tree using the [graphviz](https://www.graphviz.org/) module."
   ]
  },
  {
   "cell_type": "code",
   "execution_count": 19,
   "metadata": {
    "scrolled": false
   },
   "outputs": [
    {
     "data": {
      "image/svg+xml": [
       "<?xml version=\"1.0\" encoding=\"UTF-8\" standalone=\"no\"?>\r\n",
       "<!DOCTYPE svg PUBLIC \"-//W3C//DTD SVG 1.1//EN\"\r\n",
       " \"http://www.w3.org/Graphics/SVG/1.1/DTD/svg11.dtd\">\r\n",
       "<!-- Generated by graphviz version 2.38.0 (20140413.2041)\r\n",
       " -->\r\n",
       "<!-- Title: Tree Pages: 1 -->\r\n",
       "<svg width=\"2604pt\" height=\"685pt\"\r\n",
       " viewBox=\"0.00 0.00 2603.50 685.00\" xmlns=\"http://www.w3.org/2000/svg\" xmlns:xlink=\"http://www.w3.org/1999/xlink\">\r\n",
       "<g id=\"graph0\" class=\"graph\" transform=\"scale(1 1) rotate(0) translate(4 681)\">\r\n",
       "<title>Tree</title>\r\n",
       "<polygon fill=\"white\" stroke=\"none\" points=\"-4,4 -4,-681 2599.5,-681 2599.5,4 -4,4\"/>\r\n",
       "<!-- 0 -->\r\n",
       "<g id=\"node1\" class=\"node\"><title>0</title>\r\n",
       "<polygon fill=\"#399de5\" fill-opacity=\"0.725490\" stroke=\"black\" points=\"1769.5,-677 1623.5,-677 1623.5,-609 1769.5,-609 1769.5,-677\"/>\r\n",
       "<text text-anchor=\"middle\" x=\"1696.5\" y=\"-661.8\" font-family=\"Times New Roman,serif\" font-size=\"14.00\">build_in &lt;= 2002.5</text>\r\n",
       "<text text-anchor=\"middle\" x=\"1696.5\" y=\"-646.8\" font-family=\"Times New Roman,serif\" font-size=\"14.00\">samples = 443</text>\r\n",
       "<text text-anchor=\"middle\" x=\"1696.5\" y=\"-631.8\" font-family=\"Times New Roman,serif\" font-size=\"14.00\">value = [73, 8, 341, 21]</text>\r\n",
       "<text text-anchor=\"middle\" x=\"1696.5\" y=\"-616.8\" font-family=\"Times New Roman,serif\" font-size=\"14.00\">class = lot or land</text>\r\n",
       "</g>\r\n",
       "<!-- 1 -->\r\n",
       "<g id=\"node2\" class=\"node\"><title>1</title>\r\n",
       "<polygon fill=\"#399de5\" fill-opacity=\"0.901961\" stroke=\"black\" points=\"1650.5,-573 1510.5,-573 1510.5,-505 1650.5,-505 1650.5,-573\"/>\r\n",
       "<text text-anchor=\"middle\" x=\"1580.5\" y=\"-557.8\" font-family=\"Times New Roman,serif\" font-size=\"14.00\">price &lt;= 179250.0</text>\r\n",
       "<text text-anchor=\"middle\" x=\"1580.5\" y=\"-542.8\" font-family=\"Times New Roman,serif\" font-size=\"14.00\">samples = 263</text>\r\n",
       "<text text-anchor=\"middle\" x=\"1580.5\" y=\"-527.8\" font-family=\"Times New Roman,serif\" font-size=\"14.00\">value = [19, 0, 239, 5]</text>\r\n",
       "<text text-anchor=\"middle\" x=\"1580.5\" y=\"-512.8\" font-family=\"Times New Roman,serif\" font-size=\"14.00\">class = lot or land</text>\r\n",
       "</g>\r\n",
       "<!-- 0&#45;&gt;1 -->\r\n",
       "<g id=\"edge1\" class=\"edge\"><title>0&#45;&gt;1</title>\r\n",
       "<path fill=\"none\" stroke=\"black\" d=\"M1658.84,-608.884C1648.4,-599.709 1636.96,-589.65 1626.13,-580.123\"/>\r\n",
       "<polygon fill=\"black\" stroke=\"black\" points=\"1628.19,-577.274 1618.37,-573.299 1623.57,-582.531 1628.19,-577.274\"/>\r\n",
       "<text text-anchor=\"middle\" x=\"1619.97\" y=\"-594.548\" font-family=\"Times New Roman,serif\" font-size=\"14.00\">True</text>\r\n",
       "</g>\r\n",
       "<!-- 36 -->\r\n",
       "<g id=\"node37\" class=\"node\"><title>36</title>\r\n",
       "<polygon fill=\"#399de5\" fill-opacity=\"0.380392\" stroke=\"black\" points=\"1885.5,-573 1739.5,-573 1739.5,-505 1885.5,-505 1885.5,-573\"/>\r\n",
       "<text text-anchor=\"middle\" x=\"1812.5\" y=\"-557.8\" font-family=\"Times New Roman,serif\" font-size=\"14.00\">price &lt;= 307400.0</text>\r\n",
       "<text text-anchor=\"middle\" x=\"1812.5\" y=\"-542.8\" font-family=\"Times New Roman,serif\" font-size=\"14.00\">samples = 180</text>\r\n",
       "<text text-anchor=\"middle\" x=\"1812.5\" y=\"-527.8\" font-family=\"Times New Roman,serif\" font-size=\"14.00\">value = [54, 8, 102, 16]</text>\r\n",
       "<text text-anchor=\"middle\" x=\"1812.5\" y=\"-512.8\" font-family=\"Times New Roman,serif\" font-size=\"14.00\">class = lot or land</text>\r\n",
       "</g>\r\n",
       "<!-- 0&#45;&gt;36 -->\r\n",
       "<g id=\"edge36\" class=\"edge\"><title>0&#45;&gt;36</title>\r\n",
       "<path fill=\"none\" stroke=\"black\" d=\"M1734.16,-608.884C1744.6,-599.709 1756.04,-589.65 1766.87,-580.123\"/>\r\n",
       "<polygon fill=\"black\" stroke=\"black\" points=\"1769.43,-582.531 1774.63,-573.299 1764.81,-577.274 1769.43,-582.531\"/>\r\n",
       "<text text-anchor=\"middle\" x=\"1773.03\" y=\"-594.548\" font-family=\"Times New Roman,serif\" font-size=\"14.00\">False</text>\r\n",
       "</g>\r\n",
       "<!-- 2 -->\r\n",
       "<g id=\"node3\" class=\"node\"><title>2</title>\r\n",
       "<polygon fill=\"#399de5\" fill-opacity=\"0.568627\" stroke=\"black\" points=\"850,-469 717,-469 717,-401 850,-401 850,-469\"/>\r\n",
       "<text text-anchor=\"middle\" x=\"783.5\" y=\"-453.8\" font-family=\"Times New Roman,serif\" font-size=\"14.00\">build_in &lt;= 1984.5</text>\r\n",
       "<text text-anchor=\"middle\" x=\"783.5\" y=\"-438.8\" font-family=\"Times New Roman,serif\" font-size=\"14.00\">samples = 68</text>\r\n",
       "<text text-anchor=\"middle\" x=\"783.5\" y=\"-423.8\" font-family=\"Times New Roman,serif\" font-size=\"14.00\">value = [17, 0, 46, 5]</text>\r\n",
       "<text text-anchor=\"middle\" x=\"783.5\" y=\"-408.8\" font-family=\"Times New Roman,serif\" font-size=\"14.00\">class = lot or land</text>\r\n",
       "</g>\r\n",
       "<!-- 1&#45;&gt;2 -->\r\n",
       "<g id=\"edge2\" class=\"edge\"><title>1&#45;&gt;2</title>\r\n",
       "<path fill=\"none\" stroke=\"black\" d=\"M1510.47,-529.038C1361.76,-510.005 1015.41,-465.68 860.631,-445.871\"/>\r\n",
       "<polygon fill=\"black\" stroke=\"black\" points=\"860.633,-442.343 850.27,-444.545 859.744,-449.286 860.633,-442.343\"/>\r\n",
       "</g>\r\n",
       "<!-- 23 -->\r\n",
       "<g id=\"node24\" class=\"node\"><title>23</title>\r\n",
       "<polygon fill=\"#399de5\" fill-opacity=\"0.988235\" stroke=\"black\" points=\"1647,-469 1514,-469 1514,-401 1647,-401 1647,-469\"/>\r\n",
       "<text text-anchor=\"middle\" x=\"1580.5\" y=\"-453.8\" font-family=\"Times New Roman,serif\" font-size=\"14.00\">build_in &lt;= 1994.5</text>\r\n",
       "<text text-anchor=\"middle\" x=\"1580.5\" y=\"-438.8\" font-family=\"Times New Roman,serif\" font-size=\"14.00\">samples = 195</text>\r\n",
       "<text text-anchor=\"middle\" x=\"1580.5\" y=\"-423.8\" font-family=\"Times New Roman,serif\" font-size=\"14.00\">value = [2, 0, 193, 0]</text>\r\n",
       "<text text-anchor=\"middle\" x=\"1580.5\" y=\"-408.8\" font-family=\"Times New Roman,serif\" font-size=\"14.00\">class = lot or land</text>\r\n",
       "</g>\r\n",
       "<!-- 1&#45;&gt;23 -->\r\n",
       "<g id=\"edge23\" class=\"edge\"><title>1&#45;&gt;23</title>\r\n",
       "<path fill=\"none\" stroke=\"black\" d=\"M1580.5,-504.884C1580.5,-496.778 1580.5,-487.982 1580.5,-479.472\"/>\r\n",
       "<polygon fill=\"black\" stroke=\"black\" points=\"1584,-479.299 1580.5,-469.299 1577,-479.299 1584,-479.299\"/>\r\n",
       "</g>\r\n",
       "<!-- 3 -->\r\n",
       "<g id=\"node4\" class=\"node\"><title>3</title>\r\n",
       "<polygon fill=\"#399de5\" fill-opacity=\"0.933333\" stroke=\"black\" points=\"518.5,-365 392.5,-365 392.5,-297 518.5,-297 518.5,-365\"/>\r\n",
       "<text text-anchor=\"middle\" x=\"455.5\" y=\"-349.8\" font-family=\"Times New Roman,serif\" font-size=\"14.00\">price &lt;= 99700.0</text>\r\n",
       "<text text-anchor=\"middle\" x=\"455.5\" y=\"-334.8\" font-family=\"Times New Roman,serif\" font-size=\"14.00\">samples = 47</text>\r\n",
       "<text text-anchor=\"middle\" x=\"455.5\" y=\"-319.8\" font-family=\"Times New Roman,serif\" font-size=\"14.00\">value = [3, 0, 44, 0]</text>\r\n",
       "<text text-anchor=\"middle\" x=\"455.5\" y=\"-304.8\" font-family=\"Times New Roman,serif\" font-size=\"14.00\">class = lot or land</text>\r\n",
       "</g>\r\n",
       "<!-- 2&#45;&gt;3 -->\r\n",
       "<g id=\"edge3\" class=\"edge\"><title>2&#45;&gt;3</title>\r\n",
       "<path fill=\"none\" stroke=\"black\" d=\"M716.729,-413.236C661.927,-396.194 584.456,-372.102 528.118,-354.582\"/>\r\n",
       "<polygon fill=\"black\" stroke=\"black\" points=\"529.149,-351.238 518.561,-351.61 527.07,-357.922 529.149,-351.238\"/>\r\n",
       "</g>\r\n",
       "<!-- 14 -->\r\n",
       "<g id=\"node15\" class=\"node\"><title>14</title>\r\n",
       "<polygon fill=\"#e58139\" fill-opacity=\"0.560784\" stroke=\"black\" points=\"846.5,-365 720.5,-365 720.5,-297 846.5,-297 846.5,-365\"/>\r\n",
       "<text text-anchor=\"middle\" x=\"783.5\" y=\"-349.8\" font-family=\"Times New Roman,serif\" font-size=\"14.00\">build_in &lt;= 1989.5</text>\r\n",
       "<text text-anchor=\"middle\" x=\"783.5\" y=\"-334.8\" font-family=\"Times New Roman,serif\" font-size=\"14.00\">samples = 21</text>\r\n",
       "<text text-anchor=\"middle\" x=\"783.5\" y=\"-319.8\" font-family=\"Times New Roman,serif\" font-size=\"14.00\">value = [14, 0, 2, 5]</text>\r\n",
       "<text text-anchor=\"middle\" x=\"783.5\" y=\"-304.8\" font-family=\"Times New Roman,serif\" font-size=\"14.00\">class = townhouse</text>\r\n",
       "</g>\r\n",
       "<!-- 2&#45;&gt;14 -->\r\n",
       "<g id=\"edge14\" class=\"edge\"><title>2&#45;&gt;14</title>\r\n",
       "<path fill=\"none\" stroke=\"black\" d=\"M783.5,-400.884C783.5,-392.778 783.5,-383.982 783.5,-375.472\"/>\r\n",
       "<polygon fill=\"black\" stroke=\"black\" points=\"787,-375.299 783.5,-365.299 780,-375.299 787,-375.299\"/>\r\n",
       "</g>\r\n",
       "<!-- 4 -->\r\n",
       "<g id=\"node5\" class=\"node\"><title>4</title>\r\n",
       "<polygon fill=\"#399de5\" fill-opacity=\"0.498039\" stroke=\"black\" points=\"259,-261 136,-261 136,-193 259,-193 259,-261\"/>\r\n",
       "<text text-anchor=\"middle\" x=\"197.5\" y=\"-245.8\" font-family=\"Times New Roman,serif\" font-size=\"14.00\">build_in &lt;= 1963.5</text>\r\n",
       "<text text-anchor=\"middle\" x=\"197.5\" y=\"-230.8\" font-family=\"Times New Roman,serif\" font-size=\"14.00\">samples = 6</text>\r\n",
       "<text text-anchor=\"middle\" x=\"197.5\" y=\"-215.8\" font-family=\"Times New Roman,serif\" font-size=\"14.00\">value = [2, 0, 4, 0]</text>\r\n",
       "<text text-anchor=\"middle\" x=\"197.5\" y=\"-200.8\" font-family=\"Times New Roman,serif\" font-size=\"14.00\">class = lot or land</text>\r\n",
       "</g>\r\n",
       "<!-- 3&#45;&gt;4 -->\r\n",
       "<g id=\"edge4\" class=\"edge\"><title>3&#45;&gt;4</title>\r\n",
       "<path fill=\"none\" stroke=\"black\" d=\"M392.386,-305.048C354.979,-290.259 307.468,-271.476 268.722,-256.158\"/>\r\n",
       "<polygon fill=\"black\" stroke=\"black\" points=\"269.658,-252.764 259.072,-252.342 267.085,-259.274 269.658,-252.764\"/>\r\n",
       "</g>\r\n",
       "<!-- 9 -->\r\n",
       "<g id=\"node10\" class=\"node\"><title>9</title>\r\n",
       "<polygon fill=\"#399de5\" fill-opacity=\"0.976471\" stroke=\"black\" points=\"518.5,-261 392.5,-261 392.5,-193 518.5,-193 518.5,-261\"/>\r\n",
       "<text text-anchor=\"middle\" x=\"455.5\" y=\"-245.8\" font-family=\"Times New Roman,serif\" font-size=\"14.00\">price &lt;= 132200.0</text>\r\n",
       "<text text-anchor=\"middle\" x=\"455.5\" y=\"-230.8\" font-family=\"Times New Roman,serif\" font-size=\"14.00\">samples = 41</text>\r\n",
       "<text text-anchor=\"middle\" x=\"455.5\" y=\"-215.8\" font-family=\"Times New Roman,serif\" font-size=\"14.00\">value = [1, 0, 40, 0]</text>\r\n",
       "<text text-anchor=\"middle\" x=\"455.5\" y=\"-200.8\" font-family=\"Times New Roman,serif\" font-size=\"14.00\">class = lot or land</text>\r\n",
       "</g>\r\n",
       "<!-- 3&#45;&gt;9 -->\r\n",
       "<g id=\"edge9\" class=\"edge\"><title>3&#45;&gt;9</title>\r\n",
       "<path fill=\"none\" stroke=\"black\" d=\"M455.5,-296.884C455.5,-288.778 455.5,-279.982 455.5,-271.472\"/>\r\n",
       "<polygon fill=\"black\" stroke=\"black\" points=\"459,-271.299 455.5,-261.299 452,-271.299 459,-271.299\"/>\r\n",
       "</g>\r\n",
       "<!-- 5 -->\r\n",
       "<g id=\"node6\" class=\"node\"><title>5</title>\r\n",
       "<polygon fill=\"#399de5\" stroke=\"black\" points=\"119,-149.5 -7.10543e-015,-149.5 -7.10543e-015,-96.5 119,-96.5 119,-149.5\"/>\r\n",
       "<text text-anchor=\"middle\" x=\"59.5\" y=\"-134.3\" font-family=\"Times New Roman,serif\" font-size=\"14.00\">samples = 3</text>\r\n",
       "<text text-anchor=\"middle\" x=\"59.5\" y=\"-119.3\" font-family=\"Times New Roman,serif\" font-size=\"14.00\">value = [0, 0, 3, 0]</text>\r\n",
       "<text text-anchor=\"middle\" x=\"59.5\" y=\"-104.3\" font-family=\"Times New Roman,serif\" font-size=\"14.00\">class = lot or land</text>\r\n",
       "</g>\r\n",
       "<!-- 4&#45;&gt;5 -->\r\n",
       "<g id=\"edge5\" class=\"edge\"><title>4&#45;&gt;5</title>\r\n",
       "<path fill=\"none\" stroke=\"black\" d=\"M152.695,-192.884C136.477,-180.896 118.216,-167.399 102.185,-155.549\"/>\r\n",
       "<polygon fill=\"black\" stroke=\"black\" points=\"104.149,-152.649 94.027,-149.52 99.9884,-158.279 104.149,-152.649\"/>\r\n",
       "</g>\r\n",
       "<!-- 6 -->\r\n",
       "<g id=\"node7\" class=\"node\"><title>6</title>\r\n",
       "<polygon fill=\"#e58139\" fill-opacity=\"0.498039\" stroke=\"black\" points=\"258,-157 137,-157 137,-89 258,-89 258,-157\"/>\r\n",
       "<text text-anchor=\"middle\" x=\"197.5\" y=\"-141.8\" font-family=\"Times New Roman,serif\" font-size=\"14.00\">price &lt;= 71750.0</text>\r\n",
       "<text text-anchor=\"middle\" x=\"197.5\" y=\"-126.8\" font-family=\"Times New Roman,serif\" font-size=\"14.00\">samples = 3</text>\r\n",
       "<text text-anchor=\"middle\" x=\"197.5\" y=\"-111.8\" font-family=\"Times New Roman,serif\" font-size=\"14.00\">value = [2, 0, 1, 0]</text>\r\n",
       "<text text-anchor=\"middle\" x=\"197.5\" y=\"-96.8\" font-family=\"Times New Roman,serif\" font-size=\"14.00\">class = townhouse</text>\r\n",
       "</g>\r\n",
       "<!-- 4&#45;&gt;6 -->\r\n",
       "<g id=\"edge6\" class=\"edge\"><title>4&#45;&gt;6</title>\r\n",
       "<path fill=\"none\" stroke=\"black\" d=\"M197.5,-192.884C197.5,-184.778 197.5,-175.982 197.5,-167.472\"/>\r\n",
       "<polygon fill=\"black\" stroke=\"black\" points=\"201,-167.299 197.5,-157.299 194,-167.299 201,-167.299\"/>\r\n",
       "</g>\r\n",
       "<!-- 7 -->\r\n",
       "<g id=\"node8\" class=\"node\"><title>7</title>\r\n",
       "<polygon fill=\"#399de5\" stroke=\"black\" points=\"119,-53 -7.10543e-015,-53 -7.10543e-015,-0 119,-0 119,-53\"/>\r\n",
       "<text text-anchor=\"middle\" x=\"59.5\" y=\"-37.8\" font-family=\"Times New Roman,serif\" font-size=\"14.00\">samples = 1</text>\r\n",
       "<text text-anchor=\"middle\" x=\"59.5\" y=\"-22.8\" font-family=\"Times New Roman,serif\" font-size=\"14.00\">value = [0, 0, 1, 0]</text>\r\n",
       "<text text-anchor=\"middle\" x=\"59.5\" y=\"-7.8\" font-family=\"Times New Roman,serif\" font-size=\"14.00\">class = lot or land</text>\r\n",
       "</g>\r\n",
       "<!-- 6&#45;&gt;7 -->\r\n",
       "<g id=\"edge7\" class=\"edge\"><title>6&#45;&gt;7</title>\r\n",
       "<path fill=\"none\" stroke=\"black\" d=\"M149.234,-88.9485C135.074,-79.2516 119.629,-68.6752 105.607,-59.073\"/>\r\n",
       "<polygon fill=\"black\" stroke=\"black\" points=\"107.312,-55.999 97.0838,-53.2367 103.357,-61.7746 107.312,-55.999\"/>\r\n",
       "</g>\r\n",
       "<!-- 8 -->\r\n",
       "<g id=\"node9\" class=\"node\"><title>8</title>\r\n",
       "<polygon fill=\"#e58139\" stroke=\"black\" points=\"258,-53 137,-53 137,-0 258,-0 258,-53\"/>\r\n",
       "<text text-anchor=\"middle\" x=\"197.5\" y=\"-37.8\" font-family=\"Times New Roman,serif\" font-size=\"14.00\">samples = 2</text>\r\n",
       "<text text-anchor=\"middle\" x=\"197.5\" y=\"-22.8\" font-family=\"Times New Roman,serif\" font-size=\"14.00\">value = [2, 0, 0, 0]</text>\r\n",
       "<text text-anchor=\"middle\" x=\"197.5\" y=\"-7.8\" font-family=\"Times New Roman,serif\" font-size=\"14.00\">class = townhouse</text>\r\n",
       "</g>\r\n",
       "<!-- 6&#45;&gt;8 -->\r\n",
       "<g id=\"edge8\" class=\"edge\"><title>6&#45;&gt;8</title>\r\n",
       "<path fill=\"none\" stroke=\"black\" d=\"M197.5,-88.9485C197.5,-80.7153 197.5,-71.848 197.5,-63.4814\"/>\r\n",
       "<polygon fill=\"black\" stroke=\"black\" points=\"201,-63.2367 197.5,-53.2367 194,-63.2367 201,-63.2367\"/>\r\n",
       "</g>\r\n",
       "<!-- 10 -->\r\n",
       "<g id=\"node11\" class=\"node\"><title>10</title>\r\n",
       "<polygon fill=\"#399de5\" fill-opacity=\"0.909804\" stroke=\"black\" points=\"446.5,-157 320.5,-157 320.5,-89 446.5,-89 446.5,-157\"/>\r\n",
       "<text text-anchor=\"middle\" x=\"383.5\" y=\"-141.8\" font-family=\"Times New Roman,serif\" font-size=\"14.00\">build_in &lt;= 1964.0</text>\r\n",
       "<text text-anchor=\"middle\" x=\"383.5\" y=\"-126.8\" font-family=\"Times New Roman,serif\" font-size=\"14.00\">samples = 12</text>\r\n",
       "<text text-anchor=\"middle\" x=\"383.5\" y=\"-111.8\" font-family=\"Times New Roman,serif\" font-size=\"14.00\">value = [1, 0, 11, 0]</text>\r\n",
       "<text text-anchor=\"middle\" x=\"383.5\" y=\"-96.8\" font-family=\"Times New Roman,serif\" font-size=\"14.00\">class = lot or land</text>\r\n",
       "</g>\r\n",
       "<!-- 9&#45;&gt;10 -->\r\n",
       "<g id=\"edge10\" class=\"edge\"><title>9&#45;&gt;10</title>\r\n",
       "<path fill=\"none\" stroke=\"black\" d=\"M432.124,-192.884C425.962,-184.154 419.235,-174.625 412.804,-165.514\"/>\r\n",
       "<polygon fill=\"black\" stroke=\"black\" points=\"415.632,-163.451 407.005,-157.299 409.913,-167.487 415.632,-163.451\"/>\r\n",
       "</g>\r\n",
       "<!-- 13 -->\r\n",
       "<g id=\"node14\" class=\"node\"><title>13</title>\r\n",
       "<polygon fill=\"#399de5\" stroke=\"black\" points=\"590.5,-149.5 464.5,-149.5 464.5,-96.5 590.5,-96.5 590.5,-149.5\"/>\r\n",
       "<text text-anchor=\"middle\" x=\"527.5\" y=\"-134.3\" font-family=\"Times New Roman,serif\" font-size=\"14.00\">samples = 29</text>\r\n",
       "<text text-anchor=\"middle\" x=\"527.5\" y=\"-119.3\" font-family=\"Times New Roman,serif\" font-size=\"14.00\">value = [0, 0, 29, 0]</text>\r\n",
       "<text text-anchor=\"middle\" x=\"527.5\" y=\"-104.3\" font-family=\"Times New Roman,serif\" font-size=\"14.00\">class = lot or land</text>\r\n",
       "</g>\r\n",
       "<!-- 9&#45;&gt;13 -->\r\n",
       "<g id=\"edge13\" class=\"edge\"><title>9&#45;&gt;13</title>\r\n",